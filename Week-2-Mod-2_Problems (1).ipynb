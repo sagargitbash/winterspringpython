{
 "cells": [
  {
   "cell_type": "markdown",
   "metadata": {},
   "source": [
    "## <1> Draw a rectangle with lenght=200 and width=100.\n"
   ]
  },
  {
   "cell_type": "code",
   "execution_count": null,
   "metadata": {},
   "outputs": [],
   "source": [
    "import turtle "
   ]
  },
  {
   "cell_type": "code",
   "execution_count": null,
   "metadata": {},
   "outputs": [],
   "source": [
    "turtle.shape('turtle')\n",
    "turtle.pensize(3)\n",
    "turtle.speed(1)\n",
    "turtle.color('brown')\n",
    "turtle.forward(200)\n",
    "turtle.left(90)\n",
    "turtle.forward(100)\n",
    "turtle.left(90)\n",
    "turtle.forward(200)\n",
    "turtle.left(90)\n",
    "turtle.forward(100)\n",
    "turtle.left(90)\n",
    "\n"
   ]
  },
  {
   "cell_type": "code",
   "execution_count": null,
   "metadata": {},
   "outputs": [],
   "source": [
    "turtle.reset()"
   ]
  },
  {
   "cell_type": "code",
   "execution_count": 4,
   "metadata": {},
   "outputs": [
    {
     "name": "stdout",
     "output_type": "stream",
     "text": [
      "Enter the number of vertices of the shape3\n"
     ]
    },
    {
     "ename": "NameError",
     "evalue": "name 'turtle' is not defined",
     "output_type": "error",
     "traceback": [
      "\u001b[0;31m---------------------------------------------------------------------------\u001b[0m",
      "\u001b[0;31mNameError\u001b[0m                                 Traceback (most recent call last)",
      "\u001b[0;32m<ipython-input-4-c73dcc27d804>\u001b[0m in \u001b[0;36m<module>\u001b[0;34m\u001b[0m\n\u001b[1;32m      1\u001b[0m \u001b[0ma\u001b[0m\u001b[0;34m=\u001b[0m\u001b[0mint\u001b[0m\u001b[0;34m(\u001b[0m\u001b[0minput\u001b[0m\u001b[0;34m(\u001b[0m\u001b[0;34m\"Enter the number of vertices of the shape\"\u001b[0m\u001b[0;34m)\u001b[0m\u001b[0;34m)\u001b[0m\u001b[0;34m\u001b[0m\u001b[0;34m\u001b[0m\u001b[0m\n\u001b[0;32m----> 2\u001b[0;31m \u001b[0mturtle\u001b[0m\u001b[0;34m.\u001b[0m\u001b[0mreset\u001b[0m\u001b[0;34m(\u001b[0m\u001b[0;34m)\u001b[0m\u001b[0;34m\u001b[0m\u001b[0;34m\u001b[0m\u001b[0m\n\u001b[0m\u001b[1;32m      3\u001b[0m \u001b[0mturtle\u001b[0m\u001b[0;34m.\u001b[0m\u001b[0mshape\u001b[0m\u001b[0;34m(\u001b[0m\u001b[0;34m'turtle'\u001b[0m\u001b[0;34m)\u001b[0m\u001b[0;34m\u001b[0m\u001b[0;34m\u001b[0m\u001b[0m\n\u001b[1;32m      4\u001b[0m \u001b[0mturtle\u001b[0m\u001b[0;34m.\u001b[0m\u001b[0mpensize\u001b[0m\u001b[0;34m(\u001b[0m\u001b[0;36m3\u001b[0m\u001b[0;34m)\u001b[0m\u001b[0;34m\u001b[0m\u001b[0;34m\u001b[0m\u001b[0m\n\u001b[1;32m      5\u001b[0m \u001b[0mturtle\u001b[0m\u001b[0;34m.\u001b[0m\u001b[0mspeed\u001b[0m\u001b[0;34m(\u001b[0m\u001b[0;36m1\u001b[0m\u001b[0;34m)\u001b[0m\u001b[0;34m\u001b[0m\u001b[0;34m\u001b[0m\u001b[0m\n",
      "\u001b[0;31mNameError\u001b[0m: name 'turtle' is not defined"
     ]
    }
   ],
   "source": [
    "a=int(input(\"Enter the number of vertices of the shape\"))\n",
    "turtle.reset()\n",
    "turtle.shape('turtle')\n",
    "turtle.pensize(3)\n",
    "turtle.speed(1)\n",
    "turtle.color('brown')\n",
    "for x in range(0,a,1):\n",
    "    turtle.forward(100)\n",
    "    turtle.left(360/a)"
   ]
  },
  {
   "cell_type": "code",
   "execution_count": null,
   "metadata": {},
   "outputs": [],
   "source": [
    "turtle.shape('turtle')\n",
    "turtle.pensize(3)\n",
    "turtle.speed(1)\n",
    "turtle.color('brown')"
   ]
  },
  {
   "cell_type": "markdown",
   "metadata": {},
   "source": [
    "## <2> Write your initial with turtle.\n"
   ]
  },
  {
   "cell_type": "code",
   "execution_count": null,
   "metadata": {},
   "outputs": [],
   "source": [
    "turtle.shape('turtle')\n",
    "turtle.pensize(3)\n",
    "turtle.speed(1)\n",
    "turtle.color('brown')"
   ]
  },
  {
   "cell_type": "code",
   "execution_count": null,
   "metadata": {},
   "outputs": [],
   "source": [
    "#turtle.left(75)\n",
    "#turtle.forward(200)\n",
    "#turtle.right(150)\n",
    "#turtle.forward(200)\n",
    "#turtle.backward(100)\n",
    "#turtle.right(100)\n",
    "#turtle.forward(50)\n",
    "style=(\"Arial\",30,\"Bold\")\n",
    "turtle.write('Ayush',font=(\"Arial\",30,\"normal\"))"
   ]
  },
  {
   "cell_type": "code",
   "execution_count": 45,
   "metadata": {},
   "outputs": [],
   "source": [
    "turtle.reset()\n",
    "turtle.bye()"
   ]
  },
  {
   "cell_type": "markdown",
   "metadata": {},
   "source": [
    "## <3> Write your first name with turtle with each letter of different colors. Also draw a rectangle around your name. Screenshot your name you just wrote using turtle and post it in slack channel."
   ]
  },
  {
   "cell_type": "code",
   "execution_count": 2,
   "metadata": {},
   "outputs": [],
   "source": [
    "import random\n",
    "import turtle\n"
   ]
  },
  {
   "cell_type": "code",
   "execution_count": 1,
   "metadata": {},
   "outputs": [
    {
     "ename": "NameError",
     "evalue": "name 'turtle' is not defined",
     "output_type": "error",
     "traceback": [
      "\u001b[0;31m---------------------------------------------------------------------------\u001b[0m",
      "\u001b[0;31mNameError\u001b[0m                                 Traceback (most recent call last)",
      "\u001b[0;32m<ipython-input-1-4ef1cbf2d715>\u001b[0m in \u001b[0;36m<module>\u001b[0;34m\u001b[0m\n\u001b[1;32m      1\u001b[0m \u001b[0mcolors\u001b[0m\u001b[0;34m=\u001b[0m\u001b[0;34m[\u001b[0m\u001b[0;34m'red'\u001b[0m\u001b[0;34m,\u001b[0m\u001b[0;34m'blue'\u001b[0m\u001b[0;34m,\u001b[0m\u001b[0;34m'green'\u001b[0m\u001b[0;34m,\u001b[0m\u001b[0;34m'yellow'\u001b[0m\u001b[0;34m,\u001b[0m\u001b[0;34m'orange'\u001b[0m\u001b[0;34m,\u001b[0m\u001b[0;34m'brown'\u001b[0m\u001b[0;34m,\u001b[0m\u001b[0;34m'black'\u001b[0m\u001b[0;34m,\u001b[0m\u001b[0;34m'gray'\u001b[0m\u001b[0;34m]\u001b[0m\u001b[0;34m\u001b[0m\u001b[0;34m\u001b[0m\u001b[0m\n\u001b[0;32m----> 2\u001b[0;31m \u001b[0mturtle\u001b[0m\u001b[0;34m.\u001b[0m\u001b[0mshape\u001b[0m\u001b[0;34m(\u001b[0m\u001b[0;34m'turtle'\u001b[0m\u001b[0;34m)\u001b[0m\u001b[0;34m\u001b[0m\u001b[0;34m\u001b[0m\u001b[0m\n\u001b[0m\u001b[1;32m      3\u001b[0m \u001b[0mturtle\u001b[0m\u001b[0;34m.\u001b[0m\u001b[0mpensize\u001b[0m\u001b[0;34m(\u001b[0m\u001b[0;36m3\u001b[0m\u001b[0;34m)\u001b[0m\u001b[0;34m\u001b[0m\u001b[0;34m\u001b[0m\u001b[0m\n\u001b[1;32m      4\u001b[0m \u001b[0mturtle\u001b[0m\u001b[0;34m.\u001b[0m\u001b[0mspeed\u001b[0m\u001b[0;34m(\u001b[0m\u001b[0;36m1\u001b[0m\u001b[0;34m)\u001b[0m\u001b[0;34m\u001b[0m\u001b[0;34m\u001b[0m\u001b[0m\n\u001b[1;32m      5\u001b[0m \u001b[0mname\u001b[0m\u001b[0;34m=\u001b[0m\u001b[0minput\u001b[0m\u001b[0;34m(\u001b[0m\u001b[0;34m\"Enter your name\"\u001b[0m\u001b[0;34m)\u001b[0m\u001b[0;34m\u001b[0m\u001b[0;34m\u001b[0m\u001b[0m\n",
      "\u001b[0;31mNameError\u001b[0m: name 'turtle' is not defined"
     ]
    }
   ],
   "source": [
    "colors=['red','blue','green','yellow','orange','brown','black','gray']\n",
    "turtle.shape('turtle')\n",
    "turtle.pensize(3)\n",
    "turtle.speed(1)\n",
    "name=input(\"Enter your name\")\n",
    "for x in range(0,len(name),1):\n",
    "    turtle.pendown()\n",
    "    turtle.color(random.choice(colors))\n",
    "    turtle.write(name[x:x+1],font=(\"Arial\",30,\"normal\"))\n",
    "    turtle.penup()\n",
    "    turtle.forward(30)\n"
   ]
  },
  {
   "cell_type": "markdown",
   "metadata": {},
   "source": [
    "## <4> Write a code to draw a polygon with n (n>3) sides using turlte."
   ]
  },
  {
   "cell_type": "code",
   "execution_count": 13,
   "metadata": {},
   "outputs": [
    {
     "name": "stdout",
     "output_type": "stream",
     "text": [
      "Enter the number of vertices of the shape2\n",
      "Enter a integer greater than 3\n",
      "Enter the number of vertices of the shape3\n",
      "Enter a integer greater than 3\n",
      "Enter the number of vertices of the shape4\n"
     ]
    }
   ],
   "source": [
    "a=int(input(\"Enter the number of vertices of the shape\"))\n",
    "while a<4:\n",
    "    print(\"Enter a integer greater than 3\")\n",
    "    a = int(input(\"Enter the number of vertices of the shape\"))\n",
    "turtle.reset()\n",
    "turtle.shape('turtle')\n",
    "turtle.pensize(3)\n",
    "turtle.speed(1)\n",
    "turtle.color('brown')\n",
    "for x in range(0,a,1):\n",
    "    turtle.forward(100)\n",
    "    turtle.left(360/a)"
   ]
  },
  {
   "cell_type": "markdown",
   "metadata": {},
   "source": [
    "## <5> Write a function named polygon that takes n (number of sides) as argument and draw the polygon with n sides."
   ]
  },
  {
   "cell_type": "code",
   "execution_count": 6,
   "metadata": {},
   "outputs": [],
   "source": [
    "def polygon(n):\n",
    "    turtle.reset()\n",
    "    turtle.shape('turtle')\n",
    "    turtle.pensize(3)\n",
    "    turtle.speed(1)\n",
    "    turtle.color('brown')\n",
    "    for x in range(0,n,1):\n",
    "        turtle.forward(100)\n",
    "        turtle.left(360/n)"
   ]
  },
  {
   "cell_type": "code",
   "execution_count": 17,
   "metadata": {},
   "outputs": [
    {
     "name": "stdout",
     "output_type": "stream",
     "text": [
      "Enter the number of vertices of the shape8\n"
     ]
    }
   ],
   "source": [
    "n=int(input(\"Enter the number of vertices of the shape\"))"
   ]
  },
  {
   "cell_type": "code",
   "execution_count": 2,
   "metadata": {},
   "outputs": [
    {
     "ename": "NameError",
     "evalue": "name 'polygon' is not defined",
     "output_type": "error",
     "traceback": [
      "\u001b[0;31m---------------------------------------------------------------------------\u001b[0m",
      "\u001b[0;31mNameError\u001b[0m                                 Traceback (most recent call last)",
      "\u001b[0;32m<ipython-input-2-5a0fc712fdd6>\u001b[0m in \u001b[0;36m<module>\u001b[0;34m\u001b[0m\n\u001b[0;32m----> 1\u001b[0;31m \u001b[0mpolygon\u001b[0m\u001b[0;34m(\u001b[0m\u001b[0mn\u001b[0m\u001b[0;34m)\u001b[0m\u001b[0;34m\u001b[0m\u001b[0;34m\u001b[0m\u001b[0m\n\u001b[0m",
      "\u001b[0;31mNameError\u001b[0m: name 'polygon' is not defined"
     ]
    }
   ],
   "source": [
    "polygon(n)"
   ]
  },
  {
   "cell_type": "markdown",
   "metadata": {},
   "source": [
    "## <6>Print First 10 natural numbers using while loop and for loop."
   ]
  },
  {
   "cell_type": "code",
   "execution_count": 1,
   "metadata": {},
   "outputs": [
    {
     "name": "stdout",
     "output_type": "stream",
     "text": [
      "1\n",
      "3\n",
      "5\n",
      "7\n",
      "9\n",
      "1\n",
      "2\n",
      "3\n",
      "4\n",
      "5\n",
      "6\n",
      "7\n",
      "8\n",
      "9\n",
      "10\n"
     ]
    }
   ],
   "source": [
    "for i in range(1,11,1):\n",
    "    print(i)\n",
    "x=1\n",
    "while x<=10:\n",
    "    print(x)\n",
    "    x=x+1"
   ]
  },
  {
   "cell_type": "markdown",
   "metadata": {},
   "source": [
    "## <7>Print the following pattern\n",
    "\n",
    "```1 \n",
    "1 2 \n",
    "1 2 3 \n",
    "1 2 3 4 \n",
    "1 2 3 4 5\n",
    "1 2 3 4 5 6\n",
    "1 2 3 4 5 6 7```"
   ]
  },
  {
   "cell_type": "code",
   "execution_count": 38,
   "metadata": {},
   "outputs": [
    {
     "name": "stdout",
     "output_type": "stream",
     "text": [
      "1 \n",
      "1 2 \n",
      "1 2 3 \n",
      "1 2 3 4 \n",
      "1 2 3 4 5 \n",
      "1 2 3 4 5 6 \n",
      "1 2 3 4 5 6 7 \n"
     ]
    }
   ],
   "source": [
    "for i in range(0,7):\n",
    "    for j in range(1,i+2):\n",
    "        print(j,end=\" \")\n",
    "    print()    "
   ]
  },
  {
   "cell_type": "markdown",
   "metadata": {},
   "source": [
    "## <8>Accept number from user and calculate the sum of all number from 1 to a given number."
   ]
  },
  {
   "cell_type": "code",
   "execution_count": 42,
   "metadata": {},
   "outputs": [
    {
     "name": "stdout",
     "output_type": "stream",
     "text": [
      "Enter a number5\n",
      "1\n",
      "2\n",
      "3\n",
      "4\n",
      "5\n",
      "The sum of numbers from 1 to 5 is 15\n"
     ]
    }
   ],
   "source": [
    "n=int(input(\"Enter a number\"))\n",
    "sum=0\n",
    "for x in range(1,n+1,1):\n",
    "    sum=sum+x\n",
    "print(f\"The sum of numbers from 1 to {n} is {sum}\")    "
   ]
  },
  {
   "cell_type": "markdown",
   "metadata": {},
   "source": [
    "## <9>Print multiplication table of a given number."
   ]
  },
  {
   "cell_type": "code",
   "execution_count": 44,
   "metadata": {},
   "outputs": [
    {
     "name": "stdout",
     "output_type": "stream",
     "text": [
      "Enter the number whose multiplication table you want5\n",
      "5*1=5\n",
      "5*2=10\n",
      "5*3=15\n",
      "5*4=20\n",
      "5*5=25\n",
      "5*6=30\n",
      "5*7=35\n",
      "5*8=40\n",
      "5*9=45\n",
      "5*10=50\n"
     ]
    }
   ],
   "source": [
    "n=int(input(\"Enter the number whose multiplication table you want\"))\n",
    "for x in range(1, 11,1):\n",
    "    print(f'{n}*{x}={n*x}')"
   ]
  },
  {
   "cell_type": "markdown",
   "metadata": {},
   "source": [
    "## <10> Given a list, iterate it, and display numbers divisible by five, and if you find a number greater than 150, stop the loop iteration\n",
    "```number_list = [12, 15, 32, 42, 55, 75, 122, 132, 150, 180, 200]```"
   ]
  },
  {
   "cell_type": "code",
   "execution_count": 51,
   "metadata": {},
   "outputs": [
    {
     "name": "stdout",
     "output_type": "stream",
     "text": [
      "15\n",
      "55\n",
      "75\n",
      "150\n"
     ]
    }
   ],
   "source": [
    "number_list = [12, 15, 32, 42, 55, 75, 122, 132, 150, 180, 200]\n",
    "for x in number_list:\n",
    "    if x>150:\n",
    "        break\n",
    "    elif (x % 5)==0:\n",
    "        print(x)\n"
   ]
  },
  {
   "cell_type": "markdown",
   "metadata": {},
   "source": [
    "## <11> Given a list, iterate it, and display numbers divisible by the number you ask from user.\n",
    "\n",
    "```number_list = [[12, 15, 32], [42, 55, 75], [122, 132, 150, 180, 200]]```"
   ]
  },
  {
   "cell_type": "code",
   "execution_count": 54,
   "metadata": {},
   "outputs": [
    {
     "name": "stdout",
     "output_type": "stream",
     "text": [
      "Enter the number for which you want to check if there is a divisible number for it200\n",
      "200\n"
     ]
    }
   ],
   "source": [
    "number_list = [[12, 15, 32], [42, 55, 75], [122, 132, 150, 180, 200]]\n",
    "n=int(input(\"Enter the number for which you want to check if there is a divisible number for it\"))\n",
    "for i in number_list:\n",
    "    for x in i:\n",
    "        if x%n==0:\n",
    "            print(x)"
   ]
  },
  {
   "cell_type": "markdown",
   "metadata": {},
   "source": [
    "## <12> Ask user for a whole number and  count the total number of digits in a number. And also don't forget to print the result."
   ]
  },
  {
   "cell_type": "code",
   "execution_count": 56,
   "metadata": {},
   "outputs": [
    {
     "name": "stdout",
     "output_type": "stream",
     "text": [
      "Enter a whole number100\n",
      "3\n"
     ]
    }
   ],
   "source": [
    "n=input(\"Enter a whole number\")\n",
    "print(len(n))"
   ]
  },
  {
   "cell_type": "markdown",
   "metadata": {},
   "source": [
    "## <13> Reverse the following list using for loop.\n",
    "```num_list = [0,1,2,3,4,5,6,7,8,9]```  \n",
    "Your resultant list should look like [9,8,7,6,5,4,3,2,1,0].  "
   ]
  },
  {
   "cell_type": "code",
   "execution_count": 63,
   "metadata": {},
   "outputs": [
    {
     "name": "stdout",
     "output_type": "stream",
     "text": [
      "[9, 8, 7, 6, 5, 4, 3, 2, 1, 0]\n"
     ]
    }
   ],
   "source": [
    "num_list = [0,1,2,3,4,5,6,7,8,9]\n",
    "for x in range(0,len(num_list),1):\n",
    "    for y in range(0,x):\n",
    "        if num_list[y]<num_list[x]:\n",
    "            num_list[y],num_list[x]=num_list[x],num_list[y]\n",
    "print(num_list)"
   ]
  },
  {
   "cell_type": "markdown",
   "metadata": {},
   "source": [
    "## <14> For immediate above question write a function named reverse that takes a list as input parameter and then returns the reversed list. "
   ]
  },
  {
   "cell_type": "code",
   "execution_count": 1,
   "metadata": {},
   "outputs": [],
   "source": [
    "def sort(num_list):\n",
    "    for x in range(0,len(num_list),1):\n",
    "        for y in range(0,x):\n",
    "            if num_list[y]<num_list[x]:\n",
    "                num_list[y],num_list[x]=num_list[x],num_list[y]\n",
    "    return num_list"
   ]
  },
  {
   "cell_type": "code",
   "execution_count": 2,
   "metadata": {},
   "outputs": [
    {
     "name": "stdout",
     "output_type": "stream",
     "text": [
      "Enter how many numbers you want in a list4\n",
      "Enter a number1\n",
      "Enter a number2\n",
      "Enter a number3\n",
      "Enter a number4\n",
      "[1, 1, 1, 1]\n"
     ]
    }
   ],
   "source": [
    "n=int(input(\"Enter how many numbers you want in a list\"))\n",
    "list1=[]\n",
    "for x in range(n):\n",
    "    numbers=int(input(\"Enter a number\"))\n",
    "    list1.append(numbers)\n",
    "reverse=sort(list1)\n",
    "print(reverse)"
   ]
  },
  {
   "cell_type": "code",
   "execution_count": null,
   "metadata": {},
   "outputs": [],
   "source": []
  }
 ],
 "metadata": {
  "kernelspec": {
   "display_name": "Python 3",
   "language": "python",
   "name": "python3"
  },
  "language_info": {
   "codemirror_mode": {
    "name": "ipython",
    "version": 3
   },
   "file_extension": ".py",
   "mimetype": "text/x-python",
   "name": "python",
   "nbconvert_exporter": "python",
   "pygments_lexer": "ipython3",
   "version": "3.8.8"
  }
 },
 "nbformat": 4,
 "nbformat_minor": 4
}
